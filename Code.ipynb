{
 "cells": [
  {
   "cell_type": "markdown",
   "metadata": {},
   "source": [
    "# 초기 환경 셋팅"
   ]
  },
  {
   "cell_type": "code",
   "execution_count": 1,
   "metadata": {},
   "outputs": [],
   "source": [
    "! pip install -r requirements.txt"
   ]
  },
  {
   "cell_type": "code",
   "execution_count": null,
   "metadata": {},
   "outputs": [],
   "source": [
    "! pip install numpy==1.23.4"
   ]
  },
  {
   "cell_type": "code",
   "execution_count": null,
   "metadata": {},
   "outputs": [],
   "source": [
    "import tensorflow as tf\n",
    "\n",
    "if tf.test.is_gpu_available():\n",
    "    print(\"GPU is available\")\n",
    "else:\n",
    "    print(\"GPU is not available\")"
   ]
  },
  {
   "cell_type": "markdown",
   "metadata": {},
   "source": [
    "# import library"
   ]
  },
  {
   "cell_type": "code",
   "execution_count": null,
   "metadata": {},
   "outputs": [],
   "source": [
    "import tifffile as tiff\n",
    "import numpy as np\n",
    "import matplotlib.pyplot as plt\n",
    "import cv2\n",
    "import tensorflow as tf\n",
    "from tensorflow.keras.layers import Input, Concatenate, Conv2D, LeakyReLU, BatchNormalization, Conv2DTranspose, Activation, Dropout, Add, UpSampling2D\n",
    "from tensorflow.keras.initializers import RandomNormal\n",
    "from tensorflow.keras.optimizers import Adam\n",
    "from tensorflow.keras.models import Model\n",
    "from skimage import exposure\n",
    "import os\n",
    "import time\n",
    "from tensorflow.keras.callbacks import TensorBoard"
   ]
  },
  {
   "cell_type": "code",
   "execution_count": null,
   "metadata": {},
   "outputs": [],
   "source": [
    "current_time = time.strftime(\"%m%d_%H%M\")\n",
    "\n",
    "result_dir = os.path.join(os.getcwd(), 'result', f'logs_8x8_{current_time}')\n",
    "os.makedirs(result_dir, exist_ok=True)\n",
    "\n",
    "log_dir = os.path.join(os.getcwd(), 'logs', f'logs_8x8_{current_time}')\n",
    "os.makedirs(log_dir, exist_ok=True)\n",
    "\n",
    "print(f'Result directory created: {result_dir}')\n",
    "print(f'log directory created: {log_dir}')\n",
    "\n",
    "Epoch = 500\n",
    "batch = 32"
   ]
  },
  {
   "cell_type": "markdown",
   "metadata": {},
   "source": [
    "# Data load"
   ]
  },
  {
   "cell_type": "code",
   "execution_count": null,
   "metadata": {},
   "outputs": [],
   "source": [
    "def load_tif_files(directory, target_size=(256, 256)):\n",
    "    files = sorted([os.path.join(directory, file) for file in os.listdir(directory) if file.endswith('.tif')])\n",
    "    data = []\n",
    "    for file in files:\n",
    "        img = tiff.imread(file)\n",
    "        img_resized = cv2.resize(img, target_size)\n",
    "        data.append(img_resized)\n",
    "    return np.array(data)\n",
    "\n",
    "def load_dataset(x_directory, y_directory):\n",
    "    x_data = load_tif_files(x_directory)\n",
    "    y_data = load_tif_files(y_directory)\n",
    "    return x_data, y_data\n",
    "\n",
    "def contrast(image): \n",
    "    valid_data = image[np.logical_and(image != np.inf, image != -np.inf)] \n",
    "    in_low, in_high = np.percentile(valid_data, (2, 98))\n",
    "    image = exposure.rescale_intensity(image, in_range=(in_low, in_high))\n",
    "    return image\n",
    "\n",
    "\n",
    "x_directory = os.path.join(os.getcwd(), 'test_image', 'subset_512_8x8')\n",
    "y_directory = os.path.join(os.getcwd(), 'test_image', 'subset_512')\n",
    "X, y = load_dataset(x_directory, y_directory)\n",
    "print(X.shape, y.shape)\n",
    "\n",
    "fig, axs = plt.subplots(1, 2, figsize=(20, 15))\n",
    "axs[0].imshow(contrast(X[0]), cmap='gray')\n",
    "axs[1].imshow(contrast(y[0]), cmap='gray')\n",
    "plt.show()"
   ]
  },
  {
   "cell_type": "markdown",
   "metadata": {},
   "source": [
    "# Define Discriminator"
   ]
  },
  {
   "cell_type": "code",
   "execution_count": null,
   "metadata": {},
   "outputs": [],
   "source": [
    "def load_data(batch_size):\n",
    "    i = np.random.randint(0, int(len(X) / batch_size))\n",
    "    img_A = (np.array(X[i:i + batch_size]) / 5000.0) - 1\n",
    "    img_B = (np.array(y[i:i + batch_size]) / 5000.0) - 1\n",
    "    return img_A, img_B\n",
    "\n",
    "def load_batch(batch_size):\n",
    "    for i in range(int(len(X) / batch_size)):\n",
    "        img_A = (X[i:i + batch_size] / 5000.0) - 1\n",
    "        img_B = (y[i:i + batch_size] / 5000.0) - 1\n",
    "        yield img_A, img_B\n",
    "\n",
    "def define_discriminator(image_shape):\n",
    "    init = RandomNormal(stddev=0.02)\n",
    "    in_src_image = Input(shape=image_shape)\n",
    "    in_target_image = Input(shape=image_shape)\n",
    "    merged = Concatenate()([in_src_image, in_target_image])\n",
    "    d = Conv2D(64, (4, 4), strides=(2, 2), padding='same', kernel_initializer=init)(merged)\n",
    "    d = LeakyReLU(alpha=0.2)(d)\n",
    "    d = Conv2D(128, (4, 4), strides=(2, 2), padding='same', kernel_initializer=init)(d)\n",
    "    d = BatchNormalization()(d)\n",
    "    d = LeakyReLU(alpha=0.2)(d)\n",
    "    d = Conv2D(256, (4, 4), strides=(2, 2), padding='same', kernel_initializer=init)(d)\n",
    "    d = BatchNormalization()(d)\n",
    "    d = LeakyReLU(alpha=0.2)(d)\n",
    "    d = Conv2D(512, (4, 4), strides=(2, 2), padding='same', kernel_initializer=init)(d)\n",
    "    d = BatchNormalization()(d)\n",
    "    d = LeakyReLU(alpha=0.2)(d)\n",
    "    d = Conv2D(512, (4, 4), padding='same', kernel_initializer=init)(d)\n",
    "    d = BatchNormalization()(d)\n",
    "    d = LeakyReLU(alpha=0.2)(d)\n",
    "    patch_out = Conv2D(1, (4, 4), padding='same', kernel_initializer=init)(d)\n",
    "    patch_out = Activation('sigmoid')(patch_out)\n",
    "    model = Model([in_src_image, in_target_image], patch_out)\n",
    "    opt = Adam(learning_rate=0.0002, beta_1=0.5)\n",
    "    model.compile(loss='binary_crossentropy', optimizer=opt, loss_weights=[0.5])\n",
    "    return model\n"
   ]
  },
  {
   "cell_type": "markdown",
   "metadata": {},
   "source": [
    "# Define Generator"
   ]
  },
  {
   "cell_type": "code",
   "execution_count": null,
   "metadata": {},
   "outputs": [],
   "source": [
    "def define_encoder_block(layer_in, n_filters, batchnorm=True):\n",
    "    init = RandomNormal(stddev=0.02)\n",
    "    g = Conv2D(n_filters, (4, 4), strides=(2, 2), padding='same', kernel_initializer=init)(layer_in)\n",
    "    if batchnorm:\n",
    "        g = BatchNormalization()(g, training=True)\n",
    "    g = LeakyReLU(alpha=0.2)(g)\n",
    "    return g\n",
    "\n",
    "def decoder_block(layer_in, skip_in, n_filters, dropout=True):\n",
    "    init = RandomNormal(stddev=0.02)\n",
    "    g = Conv2DTranspose(n_filters, (4, 4), strides=(2, 2), padding='same', kernel_initializer=init)(layer_in)\n",
    "    g = BatchNormalization()(g, training=True)\n",
    "    if dropout:\n",
    "        g = Dropout(0.5)(g, training=True)\n",
    "    # Ensure skip_in has the same dimensions as g\n",
    "    if g.shape[1] != skip_in.shape[1] or g.shape[2] != skip_in.shape[2]:\n",
    "        skip_in = UpSampling2D(size=(g.shape[1] // skip_in.shape[1], g.shape[2] // skip_in.shape[2]))(skip_in)\n",
    "    g = Concatenate()([g, skip_in])\n",
    "    g = Activation('relu')(g)\n",
    "    return g\n",
    "\n",
    "def residual_block(layer_in, n_filters, kernel_size=(3,3)):\n",
    "    init = RandomNormal(stddev=0.02)\n",
    "    g = Conv2D(n_filters, kernel_size, padding='same', kernel_initializer=init)(layer_in)\n",
    "    g = BatchNormalization()(g, training=True)\n",
    "    g = Activation('relu')(g)\n",
    "    g = Conv2D(n_filters, kernel_size, padding='same', kernel_initializer=init)(g)\n",
    "    g = BatchNormalization()(g, training=True)\n",
    "    g = Add()([g, layer_in])\n",
    "    return g\n",
    "\n",
    "def define_generator(image_shape):\n",
    "    init = RandomNormal(stddev=0.02)\n",
    "    in_image = Input(shape=image_shape)\n",
    "    e1 = define_encoder_block(in_image, 64, batchnorm=False)\n",
    "    e2 = define_encoder_block(e1, 128)\n",
    "    e3 = define_encoder_block(e2, 256)\n",
    "    e4 = define_encoder_block(e3, 512)\n",
    "    e5 = define_encoder_block(e4, 512)\n",
    "    e6 = define_encoder_block(e5, 512)\n",
    "    e7 = define_encoder_block(e6, 512)\n",
    "    b = Conv2D(512, (4, 4), strides=(2, 2), padding='same', kernel_initializer=init)(e7)\n",
    "    b = Activation('relu')(b)\n",
    "    # Adding Residual Blocks\n",
    "    r1 = residual_block(b, 512)\n",
    "    r2 = residual_block(r1, 512)\n",
    "    r3 = residual_block(r2, 512)\n",
    "    d1 = decoder_block(r3, e7, 512)\n",
    "    d2 = decoder_block(d1, e6, 512)\n",
    "    d3 = decoder_block(d2, e5, 512)\n",
    "    d4 = decoder_block(d3, e4, 512, dropout=False)\n",
    "    d5 = decoder_block(d4, e3, 256, dropout=False)\n",
    "    d6 = decoder_block(d5, e2, 128, dropout=False)\n",
    "    d7 = decoder_block(d6, e1, 64, dropout=False)\n",
    "    g = Conv2DTranspose(image_shape[-1], (4, 4), strides=(2, 2), padding='same', kernel_initializer=init)(d7)\n",
    "    out_image = Activation('tanh')(g)\n",
    "    model = Model(in_image, out_image)\n",
    "    return model"
   ]
  },
  {
   "cell_type": "markdown",
   "metadata": {},
   "source": [
    "# Define Gan"
   ]
  },
  {
   "cell_type": "code",
   "execution_count": null,
   "metadata": {},
   "outputs": [],
   "source": [
    "def define_gan(g_model, d_model, image_shape):\n",
    "    for layer in d_model.layers:\n",
    "        if not isinstance(layer, BatchNormalization):\n",
    "            layer.trainable = False\n",
    "    in_src = Input(shape=image_shape)\n",
    "    gen_out = g_model(in_src)\n",
    "    dis_out = d_model([in_src, gen_out])\n",
    "    model = Model(in_src, [dis_out, gen_out])\n",
    "    opt = Adam(learning_rate=0.0001, beta_1=0.5)  # 학습률을 0.0002에서 0.0001로 낮춤\n",
    "    model.compile(loss=['binary_crossentropy', 'mae'], optimizer=opt, loss_weights=[1, 100])\n",
    "    return model"
   ]
  },
  {
   "cell_type": "code",
   "execution_count": null,
   "metadata": {},
   "outputs": [],
   "source": [
    "def generate_real_samples(n_samples, patch_shape):\n",
    "    trainA, trainB = load_data(n_samples)\n",
    "    ix = np.random.randint(0, trainA.shape[0], n_samples)\n",
    "    X1, X2 = trainA[ix], trainB[ix]\n",
    "    y = np.ones((n_samples, patch_shape, patch_shape, 1))\n",
    "    return [X1, X2], y\n",
    "\n",
    "def generate_fake_samples(g_model, samples, patch_shape):\n",
    "    X = g_model.predict(samples)\n",
    "    y = np.zeros((len(X), patch_shape, patch_shape, 1))\n",
    "    return X, y"
   ]
  },
  {
   "cell_type": "code",
   "execution_count": null,
   "metadata": {},
   "outputs": [],
   "source": [
    "def summarize_performance(step, g_model, result_dir, n_samples):\n",
    "    r, c = 3, n_samples\n",
    "    [X_realA, X_realB], _ = generate_real_samples(n_samples, 1)\n",
    "    X_fakeB, _ = generate_fake_samples(g_model, X_realA, 1)\n",
    "    gen_imgs = [X_realA, X_fakeB, X_realB]\n",
    "    titles = ['Condition', 'Generated', 'Original']\n",
    "    fig, axs = plt.subplots(r, c, figsize=(20, 20))\n",
    "    for i in range(r):\n",
    "        for j in range(c):\n",
    "            image = gen_imgs[i][j]\n",
    "            rescaled_image = (image + 1) * 5000\n",
    "            axs[i, j].imshow(contrast(rescaled_image / 10000), cmap='gray')\n",
    "            axs[i, j].set_title(titles[i])\n",
    "            axs[i, j].axis('off')\n",
    "    filename = '%s/plot_%06d.png' % (result_dir, step)\n",
    "    fig.savefig(filename)"
   ]
  },
  {
   "cell_type": "markdown",
   "metadata": {},
   "source": [
    "# Training"
   ]
  },
  {
   "cell_type": "code",
   "execution_count": null,
   "metadata": {},
   "outputs": [],
   "source": [
    "tensorboard_callback = TensorBoard(log_dir=log_dir)\n",
    "file_writer = tf.summary.create_file_writer(log_dir)\n",
    "\n",
    "def train(d_model, g_model, gan_model, n_epochs, n_batch, result_dir, d_filename, g_filename, file_writer):\n",
    "    n_patch = d_model.output_shape[1]\n",
    "    for epoch in range(1, n_epochs + 1):\n",
    "        for batch_i, (trainA, trainB) in enumerate(load_batch(n_batch)):\n",
    "            [X_realA, X_realB], y_real = generate_real_samples(n_batch, n_patch)\n",
    "            X_fakeB, y_fake = generate_fake_samples(g_model, X_realA, n_patch)\n",
    "            d_loss1 = d_model.train_on_batch([X_realA, X_realB], y_real)\n",
    "            d_loss2 = d_model.train_on_batch([X_realA, X_fakeB], y_fake)\n",
    "            g_loss, _, _ = gan_model.train_on_batch(X_realA, [y_real, X_realB])\n",
    "            with file_writer.as_default():\n",
    "                tf.summary.scalar('D1_loss', d_loss1, step=epoch)\n",
    "                tf.summary.scalar('D2_loss', d_loss2, step=epoch)\n",
    "                tf.summary.scalar('G_loss', g_loss, step=epoch)\n",
    "        summarize_performance(epoch, g_model, result_dir, n_samples=3)\n",
    "        print('[Epoch %d]' % (epoch))\n",
    "        g_model.save(d_filename)\n",
    "        d_model.save(g_filename)\n",
    "\n",
    "image_shape = (X.shape[1], X.shape[2], 1)\n",
    "d_model = define_discriminator(image_shape)\n",
    "g_model = define_generator(image_shape)\n",
    "g_filename = os.path.join(result_dir, 'g_model.h5')\n",
    "d_filename = os.path.join(result_dir, 'd_model.h5')\n",
    "if os.path.exists(g_filename):\n",
    "    g_model.load_weights(g_filename)\n",
    "if os.path.exists(d_filename):\n",
    "    d_model.load_weights(d_filename)\n",
    "gan_model = define_gan(g_model, d_model, image_shape)\n",
    "train(d_model, g_model, gan_model, n_epochs=Epoch, n_batch=batch, result_dir=result_dir, d_filename=d_filename, g_filename=g_filename, file_writer=file_writer)"
   ]
  }
 ],
 "metadata": {
  "kernelspec": {
   "display_name": "Python 3",
   "language": "python",
   "name": "python3"
  },
  "language_info": {
   "codemirror_mode": {
    "name": "ipython",
    "version": 3
   },
   "file_extension": ".py",
   "mimetype": "text/x-python",
   "name": "python",
   "nbconvert_exporter": "python",
   "pygments_lexer": "ipython3",
   "version": "3.6.9"
  }
 },
 "nbformat": 4,
 "nbformat_minor": 2
}
